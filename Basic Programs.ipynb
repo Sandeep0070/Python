{
 "cells": [
  {
   "cell_type": "markdown",
   "id": "b41bb26f",
   "metadata": {},
   "source": [
    "1. Write Python Programs to use various operators in Python"
   ]
  },
  {
   "cell_type": "code",
   "execution_count": 1,
   "id": "4e433fb2",
   "metadata": {},
   "outputs": [
    {
     "name": "stdout",
     "output_type": "stream",
     "text": [
      "Sum: 15\n",
      "Difference: 5\n",
      "Product: 50\n",
      "Quotient: 2.0\n",
      "Remainder: 0\n",
      "Result: 8\n"
     ]
    }
   ],
   "source": [
    "# Addition\n",
    "num1 = 10\n",
    "num2 = 5\n",
    "sum = num1 + num2\n",
    "print(\"Sum:\", sum)\n",
    "\n",
    "# Subtraction\n",
    "num1 = 10\n",
    "num2 = 5\n",
    "diff = num1 - num2\n",
    "print(\"Difference:\", diff)\n",
    "\n",
    "# Multiplication\n",
    "num1 = 10\n",
    "num2 = 5\n",
    "product = num1 * num2\n",
    "print(\"Product:\", product)\n",
    "\n",
    "# Division\n",
    "num1 = 10\n",
    "num2 = 5\n",
    "quotient = num1 / num2\n",
    "print(\"Quotient:\", quotient)\n",
    "\n",
    "# Modulus\n",
    "num1 = 10\n",
    "num2 = 5\n",
    "remainder = num1 % num2\n",
    "print(\"Remainder:\", remainder)\n",
    "\n",
    "# Exponentiation\n",
    "num1 = 2\n",
    "num2 = 3\n",
    "result = num1 ** num2\n",
    "print(\"Result:\", result)\n"
   ]
  },
  {
   "cell_type": "markdown",
   "id": "1f501ee5",
   "metadata": {},
   "source": [
    "2. Create list of elements and slice and dice it"
   ]
  },
  {
   "cell_type": "code",
   "execution_count": 2,
   "id": "d94a4c73",
   "metadata": {},
   "outputs": [
    {
     "name": "stdout",
     "output_type": "stream",
     "text": [
      "Original List: [1, 2, 3, 4, 5, 6, 7, 8, 9, 10]\n",
      "Slice 1: [3, 4, 5]\n",
      "Slice 2: [1, 2, 3, 4, 5]\n",
      "Slice 3: [6, 7, 8, 9, 10]\n",
      "Slice 4: [1, 3, 5, 7, 9]\n",
      "Modified List: [1, 'a', 'b', 'c', 4, 5, 6, 7, 8, 9, 10]\n"
     ]
    }
   ],
   "source": [
    "# Create a list of elements\n",
    "my_list = [1, 2, 3, 4, 5, 6, 7, 8, 9, 10]\n",
    "\n",
    "# Slice the list\n",
    "slice_1 = my_list[2:5]   # Slice from index 2 to index 4 (exclusive)\n",
    "slice_2 = my_list[:5]    # Slice from the beginning to index 4 (exclusive)\n",
    "slice_3 = my_list[5:]    # Slice from index 5 to the end\n",
    "slice_4 = my_list[::2]   # Slice with a step of 2\n",
    "\n",
    "print(\"Original List:\", my_list)\n",
    "print(\"Slice 1:\", slice_1)\n",
    "print(\"Slice 2:\", slice_2)\n",
    "print(\"Slice 3:\", slice_3)\n",
    "print(\"Slice 4:\", slice_4)\n",
    "\n",
    "# Modify the list by dicing\n",
    "my_list[1:3] = ['a', 'b', 'c']  # Replace elements from index 1 to 2 with new elements\n",
    "\n",
    "print(\"Modified List:\", my_list)\n"
   ]
  },
  {
   "cell_type": "markdown",
   "id": "040325c9",
   "metadata": {},
   "source": [
    "3. Using while loop accept numbers until sum of numbers is less than 100"
   ]
  },
  {
   "cell_type": "code",
   "execution_count": 5,
   "id": "ef7189c1",
   "metadata": {},
   "outputs": [
    {
     "name": "stdout",
     "output_type": "stream",
     "text": [
      "Enter a number: 50\n",
      "Enter a number: 50\n",
      "Sum of numbers exceeded 100. Program terminated.\n"
     ]
    }
   ],
   "source": [
    "# Initialize variables\n",
    "sum_of_numbers = 0\n",
    "\n",
    "# Accept numbers until sum is less than 100\n",
    "while sum_of_numbers < 100:\n",
    "    num = int(input(\"Enter a number: \"))\n",
    "    sum_of_numbers += num\n",
    "\n",
    "print(\"Sum of numbers exceeded 100. Program terminated.\")\n"
   ]
  },
  {
   "cell_type": "markdown",
   "id": "436ca336",
   "metadata": {},
   "source": [
    "4. Write a python program Read & write Excel files "
   ]
  },
  {
   "cell_type": "code",
   "execution_count": null,
   "id": "d02ebaf5",
   "metadata": {},
   "outputs": [],
   "source": [
    "import pandas as pd\n",
    "\n",
    "# Read from Excel file\n",
    "data = pd.read_excel('input.xlsx', sheet_name='Sheet1')\n",
    "\n",
    "# Display the data\n",
    "print(\"Data read from Excel file:\")\n",
    "print(data)\n",
    "\n",
    "# Modify the data\n",
    "data['New Column'] = data['Column 1'] + data['Column 2']\n",
    "\n",
    "# Write to Excel file\n",
    "data.to_excel('output.xlsx', index=False, sheet_name='Sheet1')\n",
    "\n",
    "print(\"Data written to Excel file.\")\n"
   ]
  },
  {
   "cell_type": "markdown",
   "id": "d4af0689",
   "metadata": {},
   "source": [
    "5. Write a python program to scrape reviews from a commercial web site"
   ]
  },
  {
   "cell_type": "code",
   "execution_count": 10,
   "id": "29bccebe",
   "metadata": {},
   "outputs": [],
   "source": [
    "import requests\n",
    "from bs4 import BeautifulSoup\n",
    "\n",
    "# URL of the web page containing the reviews\n",
    "url = \"https://www.mouthshut.com/websites/Excelr-com-reviews-926062771\"\n",
    "\n",
    "# Send a GET request to the URL\n",
    "response = requests.get(url)\n",
    "\n",
    "# Check if the request was successful\n",
    "if response.status_code == 200:\n",
    "    # Parse the HTML content using BeautifulSoup\n",
    "    soup = BeautifulSoup(response.content, 'html.parser')\n",
    "\n",
    "    # Find the review elements on the page (modify the selector according to the structure of the web page)\n",
    "    reviews = soup.select('.review')\n",
    "\n",
    "    # Extract the text content of each review\n",
    "    for review in reviews:\n",
    "        review_text = review.get_text()\n",
    "        print(\"Review:\", review_text)\n",
    "else:\n",
    "    print(\"Failed to retrieve the web page. Status code:\", response.status_code)\n"
   ]
  },
  {
   "cell_type": "code",
   "execution_count": null,
   "id": "9c71054d",
   "metadata": {},
   "outputs": [],
   "source": []
  },
  {
   "cell_type": "markdown",
   "id": "f5cffacb",
   "metadata": {},
   "source": [
    "6. Create a 3x3 matrix with values ranging from 2 to 10 using numpy"
   ]
  },
  {
   "cell_type": "code",
   "execution_count": 12,
   "id": "4d15e93b",
   "metadata": {},
   "outputs": [
    {
     "name": "stdout",
     "output_type": "stream",
     "text": [
      "[[ 2  3  4]\n",
      " [ 5  6  7]\n",
      " [ 8  9 10]]\n"
     ]
    }
   ],
   "source": [
    "import numpy as np\n",
    "\n",
    "# Create a 3x3 matrix with values ranging from 2 to 10\n",
    "matrix = np.arange(2, 11).reshape(3, 3)\n",
    "\n",
    "# Print the matrix\n",
    "print(matrix)\n"
   ]
  },
  {
   "cell_type": "code",
   "execution_count": null,
   "id": "1b40112f",
   "metadata": {},
   "outputs": [],
   "source": []
  },
  {
   "cell_type": "markdown",
   "id": "ec1b573e",
   "metadata": {},
   "source": [
    "7. Write a Python program to convert a list of numeric value into a one-dimensional NumPy array"
   ]
  },
  {
   "cell_type": "code",
   "execution_count": 13,
   "id": "82b157cd",
   "metadata": {},
   "outputs": [
    {
     "name": "stdout",
     "output_type": "stream",
     "text": [
      "[ 2  4  6  8 10]\n"
     ]
    }
   ],
   "source": [
    "import numpy as np\n",
    "\n",
    "# List of numeric values\n",
    "numeric_list = [2, 4, 6, 8, 10]\n",
    "\n",
    "# Convert list to one-dimensional NumPy array\n",
    "array = np.array(numeric_list)\n",
    "\n",
    "# Print the array\n",
    "print(array)\n"
   ]
  },
  {
   "cell_type": "code",
   "execution_count": null,
   "id": "bcbddea2",
   "metadata": {},
   "outputs": [],
   "source": []
  },
  {
   "cell_type": "markdown",
   "id": "34dc6c95",
   "metadata": {},
   "source": [
    "8. \"Write a Python program to create a null vector of size 10 and update sixth value to 11."
   ]
  },
  {
   "cell_type": "code",
   "execution_count": 14,
   "id": "b2e20a24",
   "metadata": {},
   "outputs": [
    {
     "name": "stdout",
     "output_type": "stream",
     "text": [
      "[ 0.  0.  0.  0.  0. 11.  0.  0.  0.  0.]\n"
     ]
    }
   ],
   "source": [
    "import numpy as np\n",
    "\n",
    "# Create a null vector of size 10\n",
    "null_vector = np.zeros(10)\n",
    "\n",
    "# Update the sixth value to 11\n",
    "null_vector[5] = 11\n",
    "\n",
    "# Print the null vector\n",
    "print(null_vector)\n"
   ]
  },
  {
   "cell_type": "code",
   "execution_count": null,
   "id": "c7bcb89c",
   "metadata": {},
   "outputs": [],
   "source": []
  }
 ],
 "metadata": {
  "kernelspec": {
   "display_name": "Python 3 (ipykernel)",
   "language": "python",
   "name": "python3"
  },
  "language_info": {
   "codemirror_mode": {
    "name": "ipython",
    "version": 3
   },
   "file_extension": ".py",
   "mimetype": "text/x-python",
   "name": "python",
   "nbconvert_exporter": "python",
   "pygments_lexer": "ipython3",
   "version": "3.9.13"
  }
 },
 "nbformat": 4,
 "nbformat_minor": 5
}
