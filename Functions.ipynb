{
 "cells": [
  {
   "cell_type": "markdown",
   "id": "4686bd18",
   "metadata": {},
   "source": [
    "1. Write a Python program to get the volume of a sphere with radius 6"
   ]
  },
  {
   "cell_type": "code",
   "execution_count": 1,
   "id": "87fe2237",
   "metadata": {},
   "outputs": [
    {
     "name": "stdout",
     "output_type": "stream",
     "text": [
      "Volume of the sphere: 904.7786842338603\n"
     ]
    }
   ],
   "source": [
    "import math\n",
    "\n",
    "radius = 6\n",
    "volume = (4/3) * math.pi * (radius ** 3)\n",
    "\n",
    "print(\"Volume of the sphere:\", volume)\n"
   ]
  },
  {
   "cell_type": "markdown",
   "id": "6a7dd314",
   "metadata": {},
   "source": [
    "2. Write a Python program to calculate the sum of three given numbers, if the values are equal then return three times of their sum hint: write User defined functions"
   ]
  },
  {
   "cell_type": "code",
   "execution_count": 2,
   "id": "483679b0",
   "metadata": {},
   "outputs": [
    {
     "name": "stdout",
     "output_type": "stream",
     "text": [
      "Enter the first number: 7\n",
      "Enter the second number: 7\n",
      "Enter the third number: 7\n",
      "Result: 63\n"
     ]
    }
   ],
   "source": [
    "def calculate_sum(a, b, c):\n",
    "    sum_of_numbers = a + b + c\n",
    "    if a == b == c:\n",
    "        return 3 * sum_of_numbers\n",
    "    else:\n",
    "        return sum_of_numbers\n",
    "\n",
    "# Get three numbers from the user\n",
    "a = int(input(\"Enter the first number: \"))\n",
    "b = int(input(\"Enter the second number: \"))\n",
    "c = int(input(\"Enter the third number: \"))\n",
    "\n",
    "# Calculate the sum and handle the special case\n",
    "result = calculate_sum(a, b, c)\n",
    "print(\"Result:\", result)\n"
   ]
  },
  {
   "cell_type": "markdown",
   "id": "1d262d26",
   "metadata": {},
   "source": [
    "3. Write a Python program to count the number 4 in a given list.\n",
    "\n",
    "List = [1,4,6,8,4,9,4]"
   ]
  },
  {
   "cell_type": "code",
   "execution_count": 4,
   "id": "b2848820",
   "metadata": {},
   "outputs": [
    {
     "name": "stdout",
     "output_type": "stream",
     "text": [
      "Number of 4s: 3\n"
     ]
    }
   ],
   "source": [
    "def count_number(lst, target):\n",
    "    count = 0\n",
    "    for num in lst:\n",
    "        if num == target:\n",
    "            count += 1\n",
    "    return count\n",
    "\n",
    "# Given list\n",
    "numbers = [1, 4, 6, 8, 4, 9, 4]\n",
    "\n",
    "# Count the number of 4s in the list\n",
    "count = count_number(numbers, 4)\n",
    "print(\"Number of 4s:\", count)\n"
   ]
  },
  {
   "cell_type": "markdown",
   "id": "d4891146",
   "metadata": {},
   "source": [
    "4. Write a Python program to print all even numbers from a given numbers list in the same order and stop the printing if any numbers that come after 237 in the sequence. Go to the editorSample numbers list :\n",
    "\n",
    "399, 162, 758, 219, 918, 237, 412, 566, 826, 248, 866, 950, 626, 949, 687, 217,\n",
    "\n",
    "815, 67, 104, 58, 512, 24, 892, 894, 767, 553, 81, 379, 843, 831, 445, 742, 717,\n",
    "\n",
    "958,743, 527]"
   ]
  },
  {
   "cell_type": "code",
   "execution_count": 7,
   "id": "b5f3a814",
   "metadata": {},
   "outputs": [
    {
     "name": "stdout",
     "output_type": "stream",
     "text": [
      "162\n",
      "758\n",
      "918\n"
     ]
    }
   ],
   "source": [
    "def print_even_numbers(numbers):\n",
    "    stop_printing = False\n",
    "    for num in numbers:\n",
    "        if num == 237:\n",
    "            stop_printing = True\n",
    "        if not stop_printing and num % 2 == 0:\n",
    "            print(num)\n",
    "\n",
    "# Given numbers list\n",
    "numbers_list = [399, 162, 758, 219, 918, 237, 412, 566, 826, 248, 866, 950, 626, 949, 687, 217,815, 67, 104, 58, 512, 24, 892, 894, 767, 553, 81, 379, 843, 831, 445, 742, 717,\n",
    "                958, 743, 527]\n",
    "\n",
    "# Print even numbers until 237 is encountered\n",
    "print_even_numbers(numbers_list)\n"
   ]
  },
  {
   "cell_type": "markdown",
   "id": "b09fe76f",
   "metadata": {},
   "source": [
    "5. Write a Python program to find those numbers which are divisible by 7 and multiple of 5, between 1500 and 2700 (both included)"
   ]
  },
  {
   "cell_type": "code",
   "execution_count": 9,
   "id": "02fb7c9f",
   "metadata": {},
   "outputs": [
    {
     "name": "stdout",
     "output_type": "stream",
     "text": [
      "Numbers divisible by 7 and multiples of 5 between 1500 and 2700:\n",
      "[1505, 1540, 1575, 1610, 1645, 1680, 1715, 1750, 1785, 1820, 1855, 1890, 1925, 1960, 1995, 2030, 2065, 2100, 2135, 2170, 2205, 2240, 2275, 2310, 2345, 2380, 2415, 2450, 2485, 2520, 2555, 2590, 2625, 2660, 2695]\n"
     ]
    }
   ],
   "source": [
    "def find_numbers():\n",
    "    numbers = []\n",
    "    for num in range(1500, 2701):\n",
    "        if num % 7 == 0 and num % 5 == 0:\n",
    "            numbers.append(num)\n",
    "    return numbers\n",
    "\n",
    "# Find numbers divisible by 7 and multiples of 5\n",
    "result = find_numbers()\n",
    "print(\"Numbers divisible by 7 and multiples of 5 between 1500 and 2700:\")\n",
    "print(result)\n"
   ]
  },
  {
   "cell_type": "markdown",
   "id": "24f92380",
   "metadata": {},
   "source": [
    "6. Write a Python program that prints all the numbers from 0 to 6 except 3 and 6.\n",
    "\n",
    "Note : Use 'continue' statement.\n",
    "\n",
    "Expected Output : 0 1 2 4 5"
   ]
  },
  {
   "cell_type": "code",
   "execution_count": 10,
   "id": "5f8c8b8c",
   "metadata": {},
   "outputs": [
    {
     "name": "stdout",
     "output_type": "stream",
     "text": [
      "0 1 2 4 5 "
     ]
    }
   ],
   "source": [
    "for num in range(7):\n",
    "    if num == 3 or num == 6:\n",
    "        continue\n",
    "    print(num, end=\" \")\n"
   ]
  },
  {
   "cell_type": "markdown",
   "id": "f71c60b3",
   "metadata": {},
   "source": [
    "7. Write a Python program to get the Fibonacci series between 0 to 50.\n",
    "\n",
    "Note : The Fibonacci Sequence is the series of numbers :\n",
    "\n",
    "0, 1, 1, 2, 3, 5, 8, 13, 21, ....\n",
    "\n",
    "Every next number is found by adding up the two numbers before it.\n",
    "\n",
    "Expected Output : 1 1 2 3 5 8 13 21 34"
   ]
  },
  {
   "cell_type": "code",
   "execution_count": 12,
   "id": "d92f3960",
   "metadata": {},
   "outputs": [
    {
     "name": "stdout",
     "output_type": "stream",
     "text": [
      "Fibonacci series between 0 and 50:\n",
      "0 1 1 2 3 5 8 13 21 34\n"
     ]
    }
   ],
   "source": [
    "def generate_fibonacci_series(limit):\n",
    "    fib_series = [0, 1]\n",
    "    while True:\n",
    "        next_num = fib_series[-1] + fib_series[-2]\n",
    "        if next_num > limit:\n",
    "            break\n",
    "        fib_series.append(next_num)\n",
    "    return fib_series\n",
    "\n",
    "# Generate Fibonacci series up to 50\n",
    "fibonacci_series = generate_fibonacci_series(50)\n",
    "\n",
    "# Print the Fibonacci series\n",
    "print(\"Fibonacci series between 0 and 50:\")\n",
    "print(*fibonacci_series)\n"
   ]
  },
  {
   "cell_type": "markdown",
   "id": "738f82ed",
   "metadata": {},
   "source": [
    "9. Write a Python function that takes a list and returns a new list with unique elements of the first list.\n",
    "\n",
    "Sample List : [1,2,3,3,3,3,4,5]\n",
    "\n",
    "Unique List : [1, 2, 3, 4, 5]"
   ]
  },
  {
   "cell_type": "code",
   "execution_count": 13,
   "id": "57463a39",
   "metadata": {},
   "outputs": [
    {
     "name": "stdout",
     "output_type": "stream",
     "text": [
      "Unique List: [1, 2, 3, 4, 5]\n"
     ]
    }
   ],
   "source": [
    "def get_unique_elements(input_list):\n",
    "    unique_list = list(set(input_list))\n",
    "    return unique_list\n",
    "\n",
    "# Sample list\n",
    "sample_list = [1, 2, 3, 3, 3, 3, 4, 5]\n",
    "\n",
    "# Get unique elements\n",
    "unique_list = get_unique_elements(sample_list)\n",
    "print(\"Unique List:\", unique_list)\n"
   ]
  }
 ],
 "metadata": {
  "kernelspec": {
   "display_name": "Python 3 (ipykernel)",
   "language": "python",
   "name": "python3"
  },
  "language_info": {
   "codemirror_mode": {
    "name": "ipython",
    "version": 3
   },
   "file_extension": ".py",
   "mimetype": "text/x-python",
   "name": "python",
   "nbconvert_exporter": "python",
   "pygments_lexer": "ipython3",
   "version": "3.9.13"
  }
 },
 "nbformat": 4,
 "nbformat_minor": 5
}
