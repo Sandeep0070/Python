{
 "cells": [
  {
   "cell_type": "markdown",
   "id": "865537d2",
   "metadata": {},
   "source": [
    "1. Write a Python program to calculate number of days between two dates. Hint: use Datetime package/module.\n",
    "\n",
    "Sample dates : (2014, 7, 2), (2014, 7, 11)\n",
    "    \n",
    "Expected output : 9 days\n",
    "    "
   ]
  },
  {
   "cell_type": "code",
   "execution_count": 1,
   "id": "47d1b340",
   "metadata": {},
   "outputs": [
    {
     "name": "stdout",
     "output_type": "stream",
     "text": [
      "Number of days: 9\n"
     ]
    }
   ],
   "source": [
    "from datetime import datetime\n",
    "\n",
    "def calculate_days_between_dates(date1, date2):\n",
    "    date1_obj = datetime(date1[0], date1[1], date1[2])\n",
    "    date2_obj = datetime(date2[0], date2[1], date2[2])\n",
    "    diff = date2_obj - date1_obj\n",
    "    return diff.days\n",
    "\n",
    "# Sample dates\n",
    "date1 = (2014, 7, 2)\n",
    "date2 = (2014, 7, 11)\n",
    "\n",
    "# Calculate the number of days between dates\n",
    "days = calculate_days_between_dates(date1, date2)\n",
    "print(\"Number of days:\", days)\n"
   ]
  }
 ],
 "metadata": {
  "kernelspec": {
   "display_name": "Python 3 (ipykernel)",
   "language": "python",
   "name": "python3"
  },
  "language_info": {
   "codemirror_mode": {
    "name": "ipython",
    "version": 3
   },
   "file_extension": ".py",
   "mimetype": "text/x-python",
   "name": "python",
   "nbconvert_exporter": "python",
   "pygments_lexer": "ipython3",
   "version": "3.9.13"
  }
 },
 "nbformat": 4,
 "nbformat_minor": 5
}
