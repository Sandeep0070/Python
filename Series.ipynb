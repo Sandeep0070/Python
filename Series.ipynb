{
 "cells": [
  {
   "cell_type": "markdown",
   "id": "76b808fa",
   "metadata": {},
   "source": [
    "1. Write a Python program to add, subtract, multiple and divide two Pandas Series.\n",
    "\n",
    "Sample Series: [2, 4, 6, 8, 10], [1, 3, 5, 7, 9]"
   ]
  },
  {
   "cell_type": "code",
   "execution_count": 2,
   "id": "57c342da",
   "metadata": {},
   "outputs": [
    {
     "name": "stdout",
     "output_type": "stream",
     "text": [
      "Addition:\n",
      "0     3\n",
      "1     7\n",
      "2    11\n",
      "3    15\n",
      "4    19\n",
      "dtype: int64\n",
      "\n",
      "Subtraction:\n",
      "0    1\n",
      "1    1\n",
      "2    1\n",
      "3    1\n",
      "4    1\n",
      "dtype: int64\n",
      "\n",
      "Multiplication:\n",
      "0     2\n",
      "1    12\n",
      "2    30\n",
      "3    56\n",
      "4    90\n",
      "dtype: int64\n",
      "\n",
      "Division:\n",
      "0    2.000000\n",
      "1    1.333333\n",
      "2    1.200000\n",
      "3    1.142857\n",
      "4    1.111111\n",
      "dtype: float64\n"
     ]
    }
   ],
   "source": [
    "import pandas as pd\n",
    "\n",
    "# Sample Series\n",
    "series1 = pd.Series([2, 4, 6, 8, 10])\n",
    "series2 = pd.Series([1, 3, 5, 7, 9])\n",
    "\n",
    "# Addition\n",
    "addition_result = series1 + series2\n",
    "print(\"Addition:\")\n",
    "print(addition_result)\n",
    "\n",
    "# Subtraction\n",
    "subtraction_result = series1 - series2\n",
    "print(\"\\nSubtraction:\")\n",
    "print(subtraction_result)\n",
    "\n",
    "# Multiplication\n",
    "multiplication_result = series1 * series2\n",
    "print(\"\\nMultiplication:\")\n",
    "print(multiplication_result)\n",
    "\n",
    "# Division\n",
    "division_result = series1 / series2\n",
    "print(\"\\nDivision:\")\n",
    "print(division_result)\n"
   ]
  },
  {
   "cell_type": "code",
   "execution_count": null,
   "id": "ec59c699",
   "metadata": {},
   "outputs": [],
   "source": []
  }
 ],
 "metadata": {
  "kernelspec": {
   "display_name": "Python 3 (ipykernel)",
   "language": "python",
   "name": "python3"
  },
  "language_info": {
   "codemirror_mode": {
    "name": "ipython",
    "version": 3
   },
   "file_extension": ".py",
   "mimetype": "text/x-python",
   "name": "python",
   "nbconvert_exporter": "python",
   "pygments_lexer": "ipython3",
   "version": "3.9.13"
  }
 },
 "nbformat": 4,
 "nbformat_minor": 5
}
