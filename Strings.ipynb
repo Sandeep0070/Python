{
 "cells": [
  {
   "cell_type": "markdown",
   "id": "3fa54c3b",
   "metadata": {},
   "source": [
    ". Write a Python program to concatenate all elements in a list into a string and return it."
   ]
  },
  {
   "cell_type": "code",
   "execution_count": 2,
   "id": "de338236",
   "metadata": {},
   "outputs": [
    {
     "name": "stdout",
     "output_type": "stream",
     "text": [
      "Concatenated string: 123abc\n"
     ]
    }
   ],
   "source": [
    "def concatenate_elements(lst):\n",
    "    concatenated_string = ''.join(str(element) for element in lst)\n",
    "    return concatenated_string\n",
    "\n",
    "# Sample list\n",
    "sample_list = [1, 2, 3, 'a', 'b', 'c']\n",
    "\n",
    "# Concatenate elements into a string\n",
    "concatenated_string = concatenate_elements(sample_list)\n",
    "print(\"Concatenated string:\", concatenated_string)\n"
   ]
  }
 ],
 "metadata": {
  "kernelspec": {
   "display_name": "Python 3 (ipykernel)",
   "language": "python",
   "name": "python3"
  },
  "language_info": {
   "codemirror_mode": {
    "name": "ipython",
    "version": 3
   },
   "file_extension": ".py",
   "mimetype": "text/x-python",
   "name": "python",
   "nbconvert_exporter": "python",
   "pygments_lexer": "ipython3",
   "version": "3.9.13"
  }
 },
 "nbformat": 4,
 "nbformat_minor": 5
}
